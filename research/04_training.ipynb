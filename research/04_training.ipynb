{
 "cells": [
  {
   "cell_type": "code",
   "execution_count": 1,
   "id": "b18f2f34-8010-40cf-913e-c4b5951d4b8c",
   "metadata": {},
   "outputs": [],
   "source": [
    "import os"
   ]
  },
  {
   "cell_type": "code",
   "execution_count": 1,
   "id": "63b7fbec-5325-4f62-bb45-a99952736b39",
   "metadata": {},
   "outputs": [],
   "source": [
    "import tensorflow as tf"
   ]
  },
  {
   "cell_type": "code",
   "execution_count": 3,
   "id": "52cbfddf-7324-42dd-95c3-5395a123f578",
   "metadata": {},
   "outputs": [
    {
     "data": {
      "text/plain": [
       "[]"
      ]
     },
     "execution_count": 3,
     "metadata": {},
     "output_type": "execute_result"
    }
   ],
   "source": [
    "tf.config.list_physical_devices('GPU')"
   ]
  },
  {
   "cell_type": "code",
   "execution_count": 2,
   "id": "242eee9a-d2df-4928-81df-228a911aa464",
   "metadata": {},
   "outputs": [
    {
     "data": {
      "text/plain": [
       "'C:\\\\Users\\\\Admin\\\\Chicken-disease-classification-project\\\\research'"
      ]
     },
     "execution_count": 2,
     "metadata": {},
     "output_type": "execute_result"
    }
   ],
   "source": [
    "%pwd"
   ]
  },
  {
   "cell_type": "code",
   "execution_count": 3,
   "id": "fe7c1fbe-092c-4569-9fe7-bb268e5c892d",
   "metadata": {},
   "outputs": [],
   "source": [
    "os.chdir(\"../\")"
   ]
  },
  {
   "cell_type": "code",
   "execution_count": 4,
   "id": "45d788d0-5b2e-4380-bfb6-0ed880e7e05c",
   "metadata": {},
   "outputs": [],
   "source": [
    "from dataclasses import dataclass\n",
    "from pathlib import Path\n",
    "\n",
    "\n",
    "@dataclass(frozen=True)\n",
    "class TrainingConfig:\n",
    "    root_dir: Path\n",
    "    trained_model_path: Path\n",
    "    updated_base_model_path: Path\n",
    "    training_data: Path\n",
    "    params_epochs: int\n",
    "    params_batch_size: int\n",
    "    params_is_augmentation: bool\n",
    "    params_image_size: list\n",
    "\n",
    "\n",
    "\n",
    "@dataclass(frozen=True)\n",
    "class PrepareCallbacksConfig:\n",
    "    root_dir: Path\n",
    "    tensorboard_root_log_dir: Path\n",
    "    checkpoint_model_filepath: Path"
   ]
  },
  {
   "cell_type": "code",
   "execution_count": 5,
   "id": "60004a12-5e66-4e3c-a780-3c679daa0dfc",
   "metadata": {},
   "outputs": [
    {
     "name": "stdout",
     "output_type": "stream",
     "text": [
      "[2023-11-17 10:07:16,152: WARNING: module_wrapper: From C:\\Users\\Admin\\anaconda3\\envs\\chicken_prj\\lib\\site-packages\\keras\\src\\losses.py:2976: The name tf.losses.sparse_softmax_cross_entropy is deprecated. Please use tf.compat.v1.losses.sparse_softmax_cross_entropy instead.\n",
      "]\n"
     ]
    }
   ],
   "source": [
    "from cnnClassifier.constants import *\n",
    "from cnnClassifier.utils.common import read_yaml, create_directories\n",
    "import tensorflow as tf"
   ]
  },
  {
   "cell_type": "code",
   "execution_count": 6,
   "id": "d4b007ca-135b-4391-a496-30bd271c16c7",
   "metadata": {},
   "outputs": [],
   "source": [
    "class ConfigurationManager:\n",
    "    def __init__(\n",
    "        self, \n",
    "        config_filepath = CONFIG_FILE_PATH,\n",
    "        params_filepath = PARAMS_FILE_PATH):\n",
    "        self.config = read_yaml(config_filepath)\n",
    "        self.params = read_yaml(params_filepath)\n",
    "        create_directories([self.config.artifacts_root])\n",
    "\n",
    "\n",
    "    \n",
    "    def get_prepare_callback_config(self) -> PrepareCallbacksConfig:\n",
    "        config = self.config.prepare_callbacks\n",
    "        model_ckpt_dir = os.path.dirname(config.checkpoint_model_filepath)\n",
    "        create_directories([\n",
    "            Path(model_ckpt_dir),\n",
    "            Path(config.tensorboard_root_log_dir)\n",
    "        ])\n",
    "\n",
    "        prepare_callback_config = PrepareCallbacksConfig(\n",
    "            root_dir=Path(config.root_dir),\n",
    "            tensorboard_root_log_dir=Path(config.tensorboard_root_log_dir),\n",
    "            checkpoint_model_filepath=Path(config.checkpoint_model_filepath)\n",
    "        )\n",
    "\n",
    "        return prepare_callback_config\n",
    "    \n",
    "\n",
    "\n",
    "\n",
    "\n",
    "    def get_training_config(self) -> TrainingConfig:\n",
    "        training = self.config.training\n",
    "        prepare_base_model = self.config.prepare_base_model\n",
    "        params = self.params\n",
    "        training_data = os.path.join(self.config.data_ingestion.unzip_dir, \"Chicken-fecal-images\")\n",
    "        create_directories([\n",
    "            Path(training.root_dir)\n",
    "        ])\n",
    "\n",
    "        training_config = TrainingConfig(\n",
    "            root_dir=Path(training.root_dir),\n",
    "            trained_model_path=Path(training.trained_model_path),\n",
    "            updated_base_model_path=Path(prepare_base_model.updated_base_model_path),\n",
    "            training_data=Path(training_data),\n",
    "            params_epochs=params.EPOCHS,\n",
    "            params_batch_size=params.BATCH_SIZE,\n",
    "            params_is_augmentation=params.AUGMENTATION,\n",
    "            params_image_size=params.IMAGE_SIZE\n",
    "        )\n",
    "\n",
    "        return training_config"
   ]
  },
  {
   "cell_type": "code",
   "execution_count": 7,
   "id": "c4e0700f-7910-43cf-b754-a3b63ce5bf05",
   "metadata": {},
   "outputs": [],
   "source": [
    "import time"
   ]
  },
  {
   "cell_type": "code",
   "execution_count": 8,
   "id": "b1de81c3-98c8-4e63-8193-be22a4665144",
   "metadata": {},
   "outputs": [],
   "source": [
    "class PrepareCallback:\n",
    "    def __init__(self, config: PrepareCallbacksConfig):\n",
    "        self.config = config\n",
    "\n",
    "\n",
    "    \n",
    "    @property\n",
    "    def _create_tb_callbacks(self):\n",
    "        timestamp = time.strftime(\"%Y-%m-%d-%H-%M-%S\")\n",
    "        tb_running_log_dir = os.path.join(\n",
    "            self.config.tensorboard_root_log_dir,\n",
    "            f\"tb_logs_at_{timestamp}\",\n",
    "        )\n",
    "        return tf.keras.callbacks.TensorBoard(log_dir=tb_running_log_dir)\n",
    "    \n",
    "\n",
    "    @property\n",
    "    def _create_ckpt_callbacks(self):\n",
    "        return tf.keras.callbacks.ModelCheckpoint(\n",
    "            filepath=str(self.config.checkpoint_model_filepath),\n",
    "            save_best_only=True\n",
    "        )\n",
    "\n",
    "\n",
    "    def get_tb_ckpt_callbacks(self):\n",
    "        return [\n",
    "            self._create_tb_callbacks,\n",
    "            self._create_ckpt_callbacks\n",
    "        ]"
   ]
  },
  {
   "cell_type": "code",
   "execution_count": 9,
   "id": "dbad65b3-d1fe-4f54-b75c-78c0782b63e3",
   "metadata": {},
   "outputs": [],
   "source": [
    "import os\n",
    "import urllib.request as request\n",
    "from zipfile import ZipFile\n",
    "import tensorflow as tf\n",
    "import time"
   ]
  },
  {
   "cell_type": "code",
   "execution_count": 12,
   "id": "a48ff709-fa1c-46cf-9a47-819838566a63",
   "metadata": {},
   "outputs": [],
   "source": [
    "class Training:\n",
    "    def __init__(self, config: TrainingConfig):\n",
    "        self.config = config\n",
    "    \n",
    "    def get_base_model(self):\n",
    "        self.model = tf.keras.models.load_model(\n",
    "            self.config.updated_base_model_path\n",
    "        )\n",
    "    \n",
    "    def train_valid_generator(self):\n",
    "\n",
    "        datagenerator_kwargs = dict(\n",
    "            rescale = 1./255,\n",
    "            validation_split=0.20\n",
    "        )\n",
    "\n",
    "        dataflow_kwargs = dict(\n",
    "            target_size=self.config.params_image_size[:-1],\n",
    "            batch_size=self.config.params_batch_size,\n",
    "            interpolation=\"bilinear\"\n",
    "        )\n",
    "\n",
    "        valid_datagenerator = tf.keras.preprocessing.image.ImageDataGenerator(\n",
    "            **datagenerator_kwargs\n",
    "        )\n",
    "\n",
    "        self.valid_generator = valid_datagenerator.flow_from_directory(\n",
    "            directory=self.config.training_data,\n",
    "            subset=\"validation\",\n",
    "            shuffle=False,\n",
    "            **dataflow_kwargs\n",
    "        )\n",
    "\n",
    "        if self.config.params_is_augmentation:\n",
    "            train_datagenerator = tf.keras.preprocessing.image.ImageDataGenerator(\n",
    "                rotation_range=40,\n",
    "                horizontal_flip=True,\n",
    "                width_shift_range=0.2,\n",
    "                height_shift_range=0.2,\n",
    "                shear_range=0.2,\n",
    "                zoom_range=0.2,\n",
    "                **datagenerator_kwargs\n",
    "            )\n",
    "        else:\n",
    "            train_datagenerator = valid_datagenerator\n",
    "\n",
    "        self.train_generator = train_datagenerator.flow_from_directory(\n",
    "            directory=self.config.training_data,\n",
    "            subset=\"training\",\n",
    "            shuffle=True,\n",
    "            **dataflow_kwargs\n",
    "        )\n",
    "\n",
    "    @staticmethod\n",
    "    def save_model(path: Path, model: tf.keras.Model):\n",
    "        model.save(path)\n",
    "\n",
    "\n",
    "    def train(self, callback_list: list):\n",
    "        self.steps_per_epoch = self.train_generator.samples // self.train_generator.batch_size\n",
    "        self.validation_steps = self.valid_generator.samples // self.valid_generator.batch_size\n",
    "\n",
    "        self.model.fit(\n",
    "            self.train_generator,\n",
    "            epochs=self.config.params_epochs,\n",
    "            steps_per_epoch=self.steps_per_epoch,\n",
    "            validation_steps=self.validation_steps,\n",
    "            validation_data=self.valid_generator,\n",
    "            callbacks=callback_list\n",
    "        )\n",
    "\n",
    "        self.save_model(\n",
    "            path=self.config.trained_model_path,\n",
    "            model=self.model\n",
    "        )"
   ]
  },
  {
   "cell_type": "code",
   "execution_count": 14,
   "id": "99d4bf38-a63f-4ba5-82d5-98b1bc288f9c",
   "metadata": {},
   "outputs": [
    {
     "name": "stdout",
     "output_type": "stream",
     "text": [
      "[2023-11-17 10:11:17,370: INFO: common: yaml file: config\\config.yaml loaded successfully]\n",
      "[2023-11-17 10:11:17,372: INFO: common: yaml file: params.yaml loaded successfully]\n",
      "[2023-11-17 10:11:17,372: INFO: common: created directory at: artifacts]\n",
      "[2023-11-17 10:11:17,373: INFO: common: created directory at: artifacts\\prepare_callbacks\\checkpoint_dir]\n",
      "[2023-11-17 10:11:17,373: INFO: common: created directory at: artifacts\\prepare_callbacks\\tensorboard_log_dir]\n",
      "[2023-11-17 10:11:17,375: INFO: common: created directory at: artifacts\\training]\n",
      "Found 78 images belonging to 2 classes.\n",
      "Found 312 images belonging to 2 classes.\n",
      "Epoch 1/20\n",
      "19/19 [==============================] - 17s 870ms/step - loss: 11.6086 - accuracy: 0.5878 - val_loss: 0.6527 - val_accuracy: 0.7969\n",
      "Epoch 2/20\n",
      "19/19 [==============================] - 16s 863ms/step - loss: 7.2449 - accuracy: 0.6419 - val_loss: 0.6198 - val_accuracy: 0.9062\n",
      "Epoch 3/20\n",
      "19/19 [==============================] - 16s 861ms/step - loss: 5.7012 - accuracy: 0.6824 - val_loss: 0.7087 - val_accuracy: 0.9219\n",
      "Epoch 4/20\n",
      "19/19 [==============================] - 16s 859ms/step - loss: 1.3599 - accuracy: 0.8480 - val_loss: 1.7860 - val_accuracy: 0.8438\n",
      "Epoch 5/20\n",
      "19/19 [==============================] - 16s 859ms/step - loss: 2.3364 - accuracy: 0.7804 - val_loss: 8.5886 - val_accuracy: 0.4688\n",
      "Epoch 6/20\n",
      "19/19 [==============================] - 16s 860ms/step - loss: 1.7991 - accuracy: 0.8649 - val_loss: 0.7823 - val_accuracy: 0.9062\n",
      "Epoch 7/20\n",
      "19/19 [==============================] - 16s 859ms/step - loss: 1.2662 - accuracy: 0.8784 - val_loss: 4.3240 - val_accuracy: 0.6562\n",
      "Epoch 8/20\n",
      "19/19 [==============================] - 16s 860ms/step - loss: 4.1745 - accuracy: 0.6824 - val_loss: 5.8109 - val_accuracy: 0.6406\n",
      "Epoch 9/20\n",
      "19/19 [==============================] - 16s 859ms/step - loss: 0.7956 - accuracy: 0.8986 - val_loss: 2.2947 - val_accuracy: 0.7500\n",
      "Epoch 10/20\n",
      "19/19 [==============================] - 16s 858ms/step - loss: 1.3479 - accuracy: 0.8615 - val_loss: 0.8757 - val_accuracy: 0.9375\n",
      "Epoch 11/20\n",
      "19/19 [==============================] - 16s 859ms/step - loss: 0.9850 - accuracy: 0.9088 - val_loss: 0.9346 - val_accuracy: 0.9375\n",
      "Epoch 12/20\n",
      "19/19 [==============================] - 16s 860ms/step - loss: 0.7213 - accuracy: 0.8986 - val_loss: 1.0859 - val_accuracy: 0.9062\n",
      "Epoch 13/20\n",
      "19/19 [==============================] - 16s 859ms/step - loss: 0.5444 - accuracy: 0.9257 - val_loss: 1.0503 - val_accuracy: 0.9062\n",
      "Epoch 14/20\n",
      "19/19 [==============================] - 16s 861ms/step - loss: 0.4807 - accuracy: 0.9324 - val_loss: 0.8012 - val_accuracy: 0.9531\n",
      "Epoch 15/20\n",
      "19/19 [==============================] - 16s 879ms/step - loss: 0.2703 - accuracy: 0.9426 - val_loss: 0.7632 - val_accuracy: 0.9375\n",
      "Epoch 16/20\n",
      "19/19 [==============================] - 16s 858ms/step - loss: 0.3646 - accuracy: 0.9493 - val_loss: 0.8718 - val_accuracy: 0.9375\n",
      "Epoch 17/20\n",
      "19/19 [==============================] - 16s 859ms/step - loss: 0.6289 - accuracy: 0.9291 - val_loss: 0.7788 - val_accuracy: 0.9531\n",
      "Epoch 18/20\n",
      "19/19 [==============================] - 16s 862ms/step - loss: 0.4213 - accuracy: 0.9392 - val_loss: 0.7284 - val_accuracy: 0.9219\n",
      "Epoch 19/20\n",
      "19/19 [==============================] - 17s 871ms/step - loss: 0.4419 - accuracy: 0.9291 - val_loss: 0.7818 - val_accuracy: 0.9375\n",
      "Epoch 20/20\n",
      "19/19 [==============================] - 16s 861ms/step - loss: 0.6913 - accuracy: 0.9223 - val_loss: 6.9624 - val_accuracy: 0.6094\n"
     ]
    }
   ],
   "source": [
    "try:\n",
    "    config = ConfigurationManager()\n",
    "    prepare_callbacks_config = config.get_prepare_callback_config()\n",
    "    prepare_callbacks = PrepareCallback(config=prepare_callbacks_config)\n",
    "    callback_list = prepare_callbacks.get_tb_ckpt_callbacks()\n",
    "\n",
    "    training_config = config.get_training_config()\n",
    "    training = Training(config=training_config)\n",
    "    training.get_base_model()\n",
    "    training.train_valid_generator()\n",
    "    training.train(\n",
    "        callback_list=callback_list\n",
    "    )\n",
    "    \n",
    "except Exception as e:\n",
    "    raise e"
   ]
  },
  {
   "cell_type": "code",
   "execution_count": null,
   "id": "3ee38757-2240-453d-aeac-8ec4069fd169",
   "metadata": {},
   "outputs": [],
   "source": []
  },
  {
   "cell_type": "code",
   "execution_count": null,
   "id": "37f30e91-0458-4ee7-bf6e-9ff56eb39d03",
   "metadata": {},
   "outputs": [],
   "source": []
  },
  {
   "cell_type": "code",
   "execution_count": null,
   "id": "eb91fc2e-8e7b-403b-a0c0-4c3973d3cc55",
   "metadata": {},
   "outputs": [],
   "source": []
  },
  {
   "cell_type": "code",
   "execution_count": null,
   "id": "837facc4-1220-46e6-9816-6a80d418ef19",
   "metadata": {},
   "outputs": [],
   "source": []
  }
 ],
 "metadata": {
  "kernelspec": {
   "display_name": "Python 3 (ipykernel)",
   "language": "python",
   "name": "python3"
  },
  "language_info": {
   "codemirror_mode": {
    "name": "ipython",
    "version": 3
   },
   "file_extension": ".py",
   "mimetype": "text/x-python",
   "name": "python",
   "nbconvert_exporter": "python",
   "pygments_lexer": "ipython3",
   "version": "3.9.18"
  }
 },
 "nbformat": 4,
 "nbformat_minor": 5
}
